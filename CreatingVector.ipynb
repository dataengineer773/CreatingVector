{
 "cells": [
  {
   "cell_type": "code",
   "execution_count": 1,
   "id": "5bbe127a-c568-40c0-9034-1517df592eea",
   "metadata": {},
   "outputs": [],
   "source": [
    "# Load library\n",
    "import numpy as np"
   ]
  },
  {
   "cell_type": "code",
   "execution_count": 2,
   "id": "074a1084-c655-424a-9d61-90c038365546",
   "metadata": {},
   "outputs": [],
   "source": [
    "# Create a vector as a row\n",
    "vector_row = np.array([1, 2, 3])"
   ]
  },
  {
   "cell_type": "code",
   "execution_count": 3,
   "id": "a788ec75-d981-4dfc-936f-b9b9e8becf51",
   "metadata": {},
   "outputs": [],
   "source": [
    "# Create a vector as a column\n",
    "vector_column = np.array([[1],\n",
    "[2],\n",
    "[3]])"
   ]
  }
 ],
 "metadata": {
  "kernelspec": {
   "display_name": "Python 3 (ipykernel)",
   "language": "python",
   "name": "python3"
  },
  "language_info": {
   "codemirror_mode": {
    "name": "ipython",
    "version": 3
   },
   "file_extension": ".py",
   "mimetype": "text/x-python",
   "name": "python",
   "nbconvert_exporter": "python",
   "pygments_lexer": "ipython3",
   "version": "3.12.3"
  }
 },
 "nbformat": 4,
 "nbformat_minor": 5
}
